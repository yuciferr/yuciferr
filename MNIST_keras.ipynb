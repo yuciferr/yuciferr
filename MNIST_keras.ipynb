{
  "nbformat": 4,
  "nbformat_minor": 0,
  "metadata": {
    "colab": {
      "name": "MNIST_keras.ipynb",
      "provenance": [],
      "collapsed_sections": [],
      "authorship_tag": "ABX9TyNw62oyKySRyJ/CxXjVP9NV",
      "include_colab_link": true
    },
    "kernelspec": {
      "name": "python3",
      "display_name": "Python 3"
    },
    "language_info": {
      "name": "python"
    }
  },
  "cells": [
    {
      "cell_type": "markdown",
      "metadata": {
        "id": "view-in-github",
        "colab_type": "text"
      },
      "source": [
        "<a href=\"https://colab.research.google.com/github/yuciferr/yuciferr/blob/main/MNIST_keras.ipynb\" target=\"_parent\"><img src=\"https://colab.research.google.com/assets/colab-badge.svg\" alt=\"Open In Colab\"/></a>"
      ]
    },
    {
      "cell_type": "code",
      "execution_count": 56,
      "metadata": {
        "id": "gC6bP0ez2mYj"
      },
      "outputs": [],
      "source": [
        "#data load\n",
        "from keras.datasets import mnist\n",
        "\n",
        "(x_train,y_train) = mnist.load_data()[0]\n",
        "(x_test,y_test) = mnist.load_data()[1]"
      ]
    },
    {
      "cell_type": "code",
      "source": [
        "#visualize shape and size\n",
        "print(\"Shape : \", x_train.shape)\n",
        "print(\"Shape : \", x_test.shape)"
      ],
      "metadata": {
        "colab": {
          "base_uri": "https://localhost:8080/"
        },
        "id": "BsumVBY33yP1",
        "outputId": "e42e1992-fa91-4dc9-ee5c-009ca0ab2712"
      },
      "execution_count": 57,
      "outputs": [
        {
          "output_type": "stream",
          "name": "stdout",
          "text": [
            "Shape :  (60000, 28, 28)\n",
            "Shape :  (10000, 28, 28)\n"
          ]
        }
      ]
    },
    {
      "cell_type": "code",
      "source": [
        "#visualize images\n",
        "import matplotlib.pyplot as plt\n",
        "\n",
        "plt.imshow(x_train[12],cmap='gray_r')\n",
        "plt.show()"
      ],
      "metadata": {
        "colab": {
          "base_uri": "https://localhost:8080/",
          "height": 265
        },
        "id": "J8BmMIcP4HyJ",
        "outputId": "13f18f9b-3cb0-410d-cd3b-f81338f8ae89"
      },
      "execution_count": 58,
      "outputs": [
        {
          "output_type": "display_data",
          "data": {
            "text/plain": [
              "<Figure size 432x288 with 1 Axes>"
            ],
            "image/png": "[encoded data removed]"
          },
          "metadata": {
            "needs_background": "light"
          }
        }
      ]
    },
    {
      "cell_type": "code",
      "source": [
        "#value of pixels\n",
        "\n",
        "for i in x_train[12]:\n",
        "  for j in i:\n",
        "    print(\"%3s\"%j,end='')\n",
        "  print()"
      ],
      "metadata": {
        "colab": {
          "base_uri": "https://localhost:8080/"
        },
        "id": "7yynm1Vs4mlW",
        "outputId": "d9241b3f-e043-457d-d902-31018183d96f"
      },
      "execution_count": 59,
      "outputs": [
        {
          "output_type": "stream",
          "name": "stdout",
          "text": [
            "  0  0  0  0  0  0  0  0  0  0  0  0  0  0  0  0  0  0  0  0  0  0  0  0  0  0  0  0\n",
            "  0  0  0  0  0  0  0  0  0  0  0  0  0  0  0  0  0  0  0  0  0  0  0  0  0  0  0  0\n",
            "  0  0  0  0  0  0  0  0  0  0  0  0  0  0  0  0  0  0  0  0  0  0  0  0  0  0  0  0\n",
            "  0  0  0  0  0  0  0  0  0  0  0  0  0  0  0  0  0  0  0  0  0  0  0  0  0  0  0  0\n",
            "  0  0  0  0  0  0  0  0  0  0  0  0  0  0  0  0  0  0  0  0  0  0  0  0  0  0  0  0\n",
            "  0  0  0 12 99 91142155246182155155155155131 52  0  0  0  0  0  0  0  0  0  0  0  0\n",
            "  0  0  0138254254254254254254254254254254254252210122 33  0  0  0  0  0  0  0  0  0\n",
            "  0  0  0220254254254235189189189189150189205254254254 75  0  0  0  0  0  0  0  0  0\n",
            "  0  0  0 35 74 35 35 25  0  0  0  0  0  0 13224254254153  0  0  0  0  0  0  0  0  0\n",
            "  0  0  0  0  0  0  0  0  0  0  0  0  0  0 90254254247 53  0  0  0  0  0  0  0  0  0\n",
            "  0  0  0  0  0  0  0  0  0  0  0  0  6152246254254 49  0  0  0  0  0  0  0  0  0  0\n",
            "  0  0  0  0  0  0  0  0  0  0  0 66158254254249103  8  0  0  0  0  0  0  0  0  0  0\n",
            "  0  0  0  0  0  0  0  0  0  0 54251254254254248 74  5  0  0  0  0  0  0  0  0  0  0\n",
            "  0  0  0  0  0  0  0  0  0  0140254254254254254254202125 45  0  0  0  0  0  0  0  0\n",
            "  0  0  0  0  0  0  0  0  0  0 58181234254254254254254254252140 22  0  0  0  0  0  0\n",
            "  0  0  0  0  0  0  0  0  0  0  0  0 30 50 73155253254254254254191  2  0  0  0  0  0\n",
            "  0  0  0  0  0  0  0  0  0  0  0  0  0  0  0  0 91200254254254254118  0  0  0  0  0\n",
            "  0  0  0  0  0  0  0  0  0  0  0  0  0  0  0  0  0  4192254254254154  0  0  0  0  0\n",
            "  0  0  0  0  0  0  0  0  0  0  0  0  0  0  0  0  0  0141254254254116  0  0  0  0  0\n",
            "  0  0  0  0  0  0  0  0 25126 86  0  0  0  0  0  0  3188254254250 61  0  0  0  0  0\n",
            "  0  0  0  0  0  0  0 24209254 15  0  0  0  0  0 23137254254254209  0  0  0  0  0  0\n",
            "  0  0  0  0  0  0  0168254254 48  9  0  0  9127241254254255242 63  0  0  0  0  0  0\n",
            "  0  0  0  0  0  0  0101254254254205190190205254254254254242 67  0  0  0  0  0  0  0\n",
            "  0  0  0  0  0  0  0 33166254254254254254254254254250138 55  0  0  0  0  0  0  0  0\n",
            "  0  0  0  0  0  0  0  0  7 88154116194194154154 88 49  0  0  0  0  0  0  0  0  0  0\n",
            "  0  0  0  0  0  0  0  0  0  0  0  0  0  0  0  0  0  0  0  0  0  0  0  0  0  0  0  0\n",
            "  0  0  0  0  0  0  0  0  0  0  0  0  0  0  0  0  0  0  0  0  0  0  0  0  0  0  0  0\n",
            "  0  0  0  0  0  0  0  0  0  0  0  0  0  0  0  0  0  0  0  0  0  0  0  0  0  0  0  0\n"
          ]
        }
      ]
    },
    {
      "cell_type": "code",
      "source": [
        "#normalization\n",
        "x_train = x_train.reshape((60000,28*28))\n",
        "x_train = x_train.astype(\"float32\")/255\n",
        "\n",
        "x_test = x_test.reshape((10000,28*28))\n",
        "x_test = x_test.astype(\"float32\")/255"
      ],
      "metadata": {
        "id": "vqH8P-2Z5uGw"
      },
      "execution_count": 60,
      "outputs": []
    },
    {
      "cell_type": "code",
      "source": [
        "from tensorflow.keras.utils import to_categorical\n",
        "\n",
        "y_train = to_categorical(y_train)\n",
        "y_test = to_categorical(y_test)"
      ],
      "metadata": {
        "id": "t676PW0E6VeO"
      },
      "execution_count": 61,
      "outputs": []
    },
    {
      "cell_type": "code",
      "source": [
        "#creating a model\n",
        "from keras.models import Sequential\n",
        "from keras.layers import Dense\n",
        "\n",
        "model = Sequential() #initialize \n",
        "model.add(Dense(units=512, activation=\"relu\", input_dim=(28*28))) #1st hidden layer\n",
        "#Units are equal to number of nodes in layer.\n",
        "model.add(Dense(10,activation=\"softmax\")) #output layer\n",
        "\n",
        "model.compile(optimizer=\"rmsprop\",\n",
        "              loss=\"categorical_crossentropy\",\n",
        "              metrics=[\"accuracy\"])\n"
      ],
      "metadata": {
        "id": "ss7Ck2Sy8TxV"
      },
      "execution_count": 62,
      "outputs": []
    },
    {
      "cell_type": "code",
      "source": [
        "#model training\n",
        "h = model.fit(x_train, y_train, epochs=5, batch_size=128)\n"
      ],
      "metadata": {
        "colab": {
          "base_uri": "https://localhost:8080/"
        },
        "id": "9_C1a2xu_5Rr",
        "outputId": "2bdbca45-2043-4309-c188-f72cc55eb467"
      },
      "execution_count": 63,
      "outputs": [
        {
          "output_type": "stream",
          "name": "stdout",
          "text": [
            "Epoch 1/5\n",
            "469/469 [==============================] - 4s 7ms/step - loss: 0.2550 - accuracy: 0.9264\n",
            "Epoch 2/5\n",
            "469/469 [==============================] - 3s 7ms/step - loss: 0.1027 - accuracy: 0.9689\n",
            "Epoch 3/5\n",
            "469/469 [==============================] - 3s 7ms/step - loss: 0.0688 - accuracy: 0.9792\n",
            "Epoch 4/5\n",
            "469/469 [==============================] - 3s 7ms/step - loss: 0.0507 - accuracy: 0.9846\n",
            "Epoch 5/5\n",
            "469/469 [==============================] - 3s 7ms/step - loss: 0.0379 - accuracy: 0.9889\n"
          ]
        }
      ]
    },
    {
      "cell_type": "code",
      "source": [
        "h_dict = h.history\n",
        "print(\"Keys:\",h_dict.keys())\n",
        "\n"
      ],
      "metadata": {
        "colab": {
          "base_uri": "https://localhost:8080/"
        },
        "id": "uDUfRbO-CR34",
        "outputId": "0cc931c0-3b50-4e77-9629-6a3f62883bf7"
      },
      "execution_count": 66,
      "outputs": [
        {
          "output_type": "stream",
          "name": "stdout",
          "text": [
            "Keys: dict_keys(['loss', 'accuracy'])\n"
          ]
        }
      ]
    },
    {
      "cell_type": "code",
      "source": [
        "#Model testing\n",
        "test_loss, test_acc = model.evaluate(x_test,y_test)\n",
        "print(\"Test Loss: \",test_loss,\"\\nTest Accuracy: \",test_acc)"
      ],
      "metadata": {
        "colab": {
          "base_uri": "https://localhost:8080/"
        },
        "id": "zskGwA3EH4M1",
        "outputId": "793a3de4-3f19-447c-db5b-752e7479d993"
      },
      "execution_count": 67,
      "outputs": [
        {
          "output_type": "stream",
          "name": "stdout",
          "text": [
            "313/313 [==============================] - 1s 2ms/step - loss: 0.0714 - accuracy: 0.9782\n",
            "Test Loss:  0.07140043377876282 \n",
            "Test Accuracy:  0.9782000184059143\n"
          ]
        }
      ]
    }
  ]
}